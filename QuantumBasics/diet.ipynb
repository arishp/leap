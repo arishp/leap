{
 "metadata": {
  "language_info": {
   "codemirror_mode": {
    "name": "ipython",
    "version": 3
   },
   "file_extension": ".py",
   "mimetype": "text/x-python",
   "name": "python",
   "nbconvert_exporter": "python",
   "pygments_lexer": "ipython3",
   "version": "3.9.15"
  },
  "orig_nbformat": 4,
  "kernelspec": {
   "name": "python3",
   "display_name": "Python 3.9.15 64-bit"
  },
  "interpreter": {
   "hash": "4cd7ab41f5fca4b9b44701077e38c5ffd31fe66a6cab21e0214b68d958d0e462"
  }
 },
 "nbformat": 4,
 "nbformat_minor": 2,
 "cells": [
  {
   "source": [
    "# Diet Planning\n",
    "## The goal of this problem is to optimize the taste of a diet’s foods while keeping to the dieter’s budget and daily requirements on macro-nutrients. <br>\n",
    "The problem-solving workflow as consisting of two main steps: <br>\n",
    "(1) Formulate the problem as an objective function in a supported form of quadratic model (QM) and <br>\n",
    "(2) Solve your QM with a D-Wave solver."
   ],
   "cell_type": "markdown",
   "metadata": {}
  },
  {
   "source": [
    "# Formulate the Problem <br>\n",
    "The table below shows a selection of foods chosen by a dieter, ranked for the dieter’s taste on a scale of one to ten, with evaluations (not necessarily realistic) of nutrients and costs. <br>\n",
    "<table class=\"table\" id=\"id6\">\n",
    "<style>\n",
    "table, th, td {\n",
    "  border: 1px solid white;\n",
    "}\n",
    "</style>\n",
    "<colgroup>\n",
    "<col style=\"width: 13%\" />\n",
    "<col style=\"width: 13%\" />\n",
    "<col style=\"width: 13%\" />\n",
    "<col style=\"width: 13%\" />\n",
    "<col style=\"width: 13%\" />\n",
    "<col style=\"width: 13%\" />\n",
    "<col style=\"width: 13%\" />\n",
    "<col style=\"width: 13%\" />\n",
    "</colgroup>\n",
    "<thead>\n",
    "<tr class=\"row-odd\"><th class=\"head\"><p><strong>Food</strong></p></th>\n",
    "<th class=\"head\"><p><strong>Calories</strong></p></th>\n",
    "<th class=\"head\"><p><strong>Protein</strong></p></th>\n",
    "<th class=\"head\"><p><strong>Fat</strong></p></th>\n",
    "<th class=\"head\"><p><strong>Carbs</strong></p></th>\n",
    "<th class=\"head\"><p><strong>Fiber</strong></p></th>\n",
    "<th class=\"head\"><p><strong>Taste</strong></p></th>\n",
    "<th class=\"head\"><p><strong>Cost</strong></p></th>\n",
    "</tr>\n",
    "</thead>\n",
    "<tbody>\n",
    "<tr class=\"row-even\"><td><p>Rice</p></td>\n",
    "<td><p>100</p></td>\n",
    "<td><p>3</p></td>\n",
    "<td><p>1</p></td>\n",
    "<td><p>22</p></td>\n",
    "<td><p>2</p></td>\n",
    "<td><p>7</p></td>\n",
    "<td><p>2.50</p></td>\n",
    "</tr>\n",
    "<tr class=\"row-odd\"><td><p>Tofu</p></td>\n",
    "<td><p>140</p></td>\n",
    "<td><p>17</p></td>\n",
    "<td><p>9</p></td>\n",
    "<td><p>3</p></td>\n",
    "<td><p>2</p></td>\n",
    "<td><p>2</p></td>\n",
    "<td><p>4.0</p></td>\n",
    "</tr>\n",
    "<tr class=\"row-even\"><td><p>Bananas</p></td>\n",
    "<td><p>90</p></td>\n",
    "<td><p>1</p></td>\n",
    "<td><p>0</p></td>\n",
    "<td><p>23</p></td>\n",
    "<td><p>3</p></td>\n",
    "<td><p>10</p></td>\n",
    "<td><p>1.0</p></td>\n",
    "</tr>\n",
    "<tr class=\"row-odd\"><td><p>Lentils</p></td>\n",
    "<td><p>150</p></td>\n",
    "<td><p>9</p></td>\n",
    "<td><p>0</p></td>\n",
    "<td><p>25</p></td>\n",
    "<td><p>4</p></td>\n",
    "<td><p>3</p></td>\n",
    "<td><p>1.30</p></td>\n",
    "</tr>\n",
    "<tr class=\"row-even\"><td><p>Bread</p></td>\n",
    "<td><p>270</p></td>\n",
    "<td><p>9</p></td>\n",
    "<td><p>3</p></td>\n",
    "<td><p>50</p></td>\n",
    "<td><p>3</p></td>\n",
    "<td><p>5</p></td>\n",
    "<td><p>0.25</p></td>\n",
    "</tr>\n",
    "<tr class=\"row-odd\"><td><p>Avocado</p></td>\n",
    "<td><p>300</p></td>\n",
    "<td><p>4</p></td>\n",
    "<td><p>30</p></td>\n",
    "<td><p>20</p></td>\n",
    "<td><p>14</p></td>\n",
    "<td><p>5</p></td>\n",
    "<td><p>2.00</p></td>\n",
    "</tr>\n",
    "</tbody>\n",
    "</table>\n"
   ],
   "cell_type": "markdown",
   "metadata": {}
  },
  {
   "source": [
    "The following table shows the dieter’s daily requirements for selected nutrients. <br>\n",
    "<table class=\"table\" id=\"id7\">\n",
    "<colgroup>\n",
    "<col style=\"width: 15%\" />\n",
    "<col style=\"width:15%\" />\n",
    "<col style=\"width: 15%\" />\n",
    "<col style=\"width: 15%\" />\n",
    "<col style=\"width: 15%\" />\n",
    "<col style=\"width: 15%\" />\n",
    "</colgroup>\n",
    "<thead>\n",
    "<tr class=\"row-odd\"><th class=\"head\"><p><strong>Nutrient</strong></p></th>\n",
    "<th class=\"head\"><p><strong>Calories</strong></p></th>\n",
    "<th class=\"head\"><p><strong>Protein</strong></p></th>\n",
    "<th class=\"head\"><p><strong>Fat</strong></p></th>\n",
    "<th class=\"head\"><p><strong>Carbs</strong></p></th>\n",
    "<th class=\"head\"><p><strong>Fiber</strong></p></th>\n",
    "</tr>\n",
    "</thead>\n",
    "<tbody>\n",
    "<tr class=\"row-even\"><td><p><strong>Daily Req.</strong></p></td>\n",
    "<td><p>2000</p></td>\n",
    "<td><p>50</p></td>\n",
    "<td><p>30</p></td>\n",
    "<td><p>130</p></td>\n",
    "<td><p>30</p></td>\n",
    "</tr>\n",
    "</tbody>\n",
    "</table>"
   ],
   "cell_type": "markdown",
   "metadata": {}
  },
  {
   "source": [
    "For simplicity, store the contents of the two tables above as a dict. The dict also contains information on whether the portion of a particular food is best treated as continuous (for example, rice can be any weight), in which case it should be represented with real-valued variables, or as a discrete unit (such as fruit that is eaten whole), in which case it is best represented by integer-valued variables."
   ],
   "cell_type": "markdown",
   "metadata": {}
  },
  {
   "cell_type": "code",
   "execution_count": 1,
   "metadata": {},
   "outputs": [],
   "source": [
    "foods = {\n",
    "  'rice': {'Calories': 100, 'Protein': 3, 'Fat': 1, 'Carbs': 22, 'Fiber': 2,\n",
    "           'Taste': 7, 'Cost': 2.5, 'Units': 'continuous'},\n",
    "  'tofu': {'Calories': 140, 'Protein': 17, 'Fat': 9, 'Carbs': 3, 'Fiber': 2,\n",
    "           'Taste': 2, 'Cost': 4.0, 'Units': 'continuous'},\n",
    "  'banana': {'Calories': 90, 'Protein': 1, 'Fat': 0, 'Carbs': 23, 'Fiber': 3,\n",
    "             'Taste': 10, 'Cost': 1.0, 'Units': 'discrete'},\n",
    "  'lentils': {'Calories': 150, 'Protein': 9, 'Fat': 0, 'Carbs': 25, 'Fiber': 4,\n",
    "              'Taste': 3, 'Cost': 1.3, 'Units': 'continuous'},\n",
    "  'bread': {'Calories': 270, 'Protein': 9, 'Fat': 3, 'Carbs': 50, 'Fiber': 3,\n",
    "            'Taste': 5, 'Cost': 0.25, 'Units': 'continuous'},\n",
    "  'avocado': {'Calories': 300, 'Protein': 4, 'Fat': 30, 'Carbs': 20, 'Fiber': 14,\n",
    "              'Taste': 5, 'Cost': 2.0, 'Units': 'discrete'}}"
   ]
  },
  {
   "cell_type": "code",
   "execution_count": 2,
   "metadata": {},
   "outputs": [],
   "source": [
    "min_nutrients = {\"Protein\": 50, \"Fat\": 30, \"Carbs\": 130, \"Fiber\": 30}\n",
    "max_calories = 2000"
   ]
  },
  {
   "source": [
    "## Variables <br>\n",
    "Instantiate some real and integer variables1 in a list, quantities, that in the solutions will be assigned values for the selected quantities of every available food."
   ],
   "cell_type": "markdown",
   "metadata": {}
  },
  {
   "cell_type": "code",
   "execution_count": 4,
   "metadata": {},
   "outputs": [],
   "source": [
    "import dimod\n",
    "quantities = [dimod.Real(f\"{food}\") if foods[food][\"Units\"] == \"continuous\"\n",
    "                                    else dimod.Integer(f\"{food}\")\n",
    "                                    for food in foods.keys()]"
   ]
  },
  {
   "source": [
    "Always keep in mind that such “variables” are actually QuadraticModel objects with a single variable with the requested label; e.g., rice."
   ],
   "cell_type": "markdown",
   "metadata": {}
  },
  {
   "cell_type": "code",
   "execution_count": 5,
   "metadata": {},
   "outputs": [
    {
     "output_type": "execute_result",
     "data": {
      "text/plain": [
       "QuadraticModel({'rice': 1.0}, {}, 0.0, {'rice': 'REAL'}, dtype='float64')"
      ]
     },
     "metadata": {},
     "execution_count": 5
    }
   ],
   "source": [
    "quantities[0]"
   ]
  },
  {
   "source": [
    "This means, for example, that multiplying by two doubles the linear bias."
   ],
   "cell_type": "markdown",
   "metadata": {}
  },
  {
   "cell_type": "code",
   "execution_count": 9,
   "metadata": {},
   "outputs": [
    {
     "output_type": "execute_result",
     "data": {
      "text/plain": [
       "QuadraticModel({'rice': 2.0}, {}, 0.0, {'rice': 'REAL'}, dtype='float64')"
      ]
     },
     "metadata": {},
     "execution_count": 9
    }
   ],
   "source": [
    "2*quantities[0]"
   ]
  },
  {
   "source": [
    "Bounds on the range of values for non-binary variables shrink the solution space the solver must search, so it is helpful to set such bounds; for many problems, you can find bounds from your knowledge of the problem. In this case, no food by itself should be assigned a quantity that exceeds max_calories."
   ],
   "cell_type": "markdown",
   "metadata": {}
  },
  {
   "cell_type": "code",
   "execution_count": 12,
   "metadata": {},
   "outputs": [],
   "source": [
    "for ind, food in enumerate(foods.keys()):\n",
    "  ub = max_calories / foods[food][\"Calories\"]\n",
    "  quantities[ind].set_upper_bound(food, ub)"
   ]
  },
  {
   "cell_type": "code",
   "execution_count": 13,
   "metadata": {},
   "outputs": [
    {
     "output_type": "execute_result",
     "data": {
      "text/plain": [
       "20.0"
      ]
     },
     "metadata": {},
     "execution_count": 13
    }
   ],
   "source": [
    "quantities[0].upper_bound(\"rice\")"
   ]
  },
  {
   "source": [
    "## Objective Function <br>\n",
    "The objective function must maximize taste of the diet’s foods while minimizing purchase cost. <br>\n",
    "To maximize taste and minimize cost is to assign values to the variables that represent quantities of each food, such that when multiplied by coefficients representing the cost, ($c_i$), or taste, ($t_i$), of each food, form the linear terms of the following summations to be optimized:\n",
    "\n",
    "\\begin{align}\\begin{aligned}      \\min \\sum_i q_i c_i \\qquad \\text{Minimize cost}\\\\\\max \\sum_i q_i t_i \\qquad \\text{Maximize taste}\\end{aligned}\\end{align}\n",
    "\n",
    "To optimize two different objectives, taste and cost, requires weighing one against the other. A simple way to do this, is to set priority weights; for example,\n",
    "\n",
    "\\begin{align}\\begin{aligned}      \\text{objective} = \\alpha (\\text{objective}_1) + \\beta (\\text{objective}_2)\\end{aligned}\\end{align}\n",
    "\n",
    "By setting, for example  $\\alpha=2, \\beta=1,$ you double the priority of the first objective compared to the second.<br>\n",
    "Instantiate a CQM."
   ],
   "cell_type": "markdown",
   "metadata": {}
  },
  {
   "source": [
    "cqm = dimod.ConstrainedQuadraticModel()"
   ],
   "cell_type": "code",
   "metadata": {},
   "execution_count": 15,
   "outputs": []
  },
  {
   "source": [
    "You can define a utility function, total_mix, to calculate the summations for any given category such as calories."
   ],
   "cell_type": "markdown",
   "metadata": {}
  },
  {
   "cell_type": "code",
   "execution_count": 16,
   "metadata": {},
   "outputs": [],
   "source": [
    "def total_mix(quantity, category):\n",
    "  return sum(q * c for q, c in zip(quantity, (foods[food][category] for food in foods.keys())))"
   ]
  },
  {
   "source": [
    "Set the $\\text{objective}_2$. Because the Quantum solvers minimize objectives, to maximize taste, Taste is multiplied by -1 and minimized."
   ],
   "cell_type": "markdown",
   "metadata": {}
  },
  {
   "cell_type": "code",
   "execution_count": 17,
   "metadata": {},
   "outputs": [],
   "source": [
    "cqm.set_objective(-total_mix(quantities, \"Taste\") + 6*total_mix(quantities, \"Cost\"))"
   ]
  },
  {
   "source": [
    "## Constraints\n",
    "The problem has the following constraints of the Daily Required Nutrients table:\n",
    "\n",
    "<table class=\"table\" id=\"id7\">\n",
    "<colgroup>\n",
    "<col style=\"width: 15%\" />\n",
    "<col style=\"width:15%\" />\n",
    "<col style=\"width: 15%\" />\n",
    "<col style=\"width: 15%\" />\n",
    "<col style=\"width: 15%\" />\n",
    "<col style=\"width: 15%\" />\n",
    "</colgroup>\n",
    "<thead>\n",
    "<tr class=\"row-odd\"><th class=\"head\"><p><strong>Nutrient</strong></p></th>\n",
    "<th class=\"head\"><p><strong>Calories</strong></p></th>\n",
    "<th class=\"head\"><p><strong>Protein</strong></p></th>\n",
    "<th class=\"head\"><p><strong>Fat</strong></p></th>\n",
    "<th class=\"head\"><p><strong>Carbs</strong></p></th>\n",
    "<th class=\"head\"><p><strong>Fiber</strong></p></th>\n",
    "</tr>\n",
    "</thead>\n",
    "<tbody>\n",
    "<tr class=\"row-even\"><td><p><strong>Daily Req.</strong></p></td>\n",
    "<td><p>2000</p></td>\n",
    "<td><p>50</p></td>\n",
    "<td><p>30</p></td>\n",
    "<td><p>130</p></td>\n",
    "<td><p>30</p></td>\n",
    "</tr>\n",
    "</tbody>\n",
    "</table>\n",
    "\n",
    "<br>Calories: no more than 2000\n",
    "<br>Protein: at least 50\n",
    "<br>Fat: at least 30\n",
    "<br>Carbs: at least 130\n",
    "<br>Fiber: at least 30\n",
    "<br><br>Constrain the diet’s calorie intake to the required daily maximum."
   ],
   "cell_type": "markdown",
   "metadata": {}
  },
  {
   "cell_type": "code",
   "execution_count": 18,
   "metadata": {},
   "outputs": [
    {
     "output_type": "execute_result",
     "data": {
      "text/plain": [
       "'Calories'"
      ]
     },
     "metadata": {},
     "execution_count": 18
    }
   ],
   "source": [
    "cqm.add_constraint(total_mix(quantities, \"Calories\") <= max_calories, label=\"Calories\")"
   ]
  },
  {
   "source": [
    "Require that the daily minimum of each nutrient is met or exceeded."
   ],
   "cell_type": "markdown",
   "metadata": {}
  },
  {
   "cell_type": "code",
   "execution_count": 19,
   "metadata": {},
   "outputs": [],
   "source": [
    "for nutrient, amount in min_nutrients.items():\n",
    "  cqm.add_constraint(total_mix(quantities, nutrient) >= amount, label=nutrient)"
   ]
  },
  {
   "source": [
    "You can access these constraints as a dict with the labels as keys:"
   ],
   "cell_type": "markdown",
   "metadata": {}
  },
  {
   "cell_type": "code",
   "execution_count": 21,
   "metadata": {},
   "outputs": [
    {
     "output_type": "execute_result",
     "data": {
      "text/plain": [
       "['Calories', 'Protein', 'Fat', 'Carbs', 'Fiber']"
      ]
     },
     "metadata": {},
     "execution_count": 21
    }
   ],
   "source": [
    "list(cqm.constraints.keys())"
   ]
  },
  {
   "cell_type": "code",
   "execution_count": 22,
   "metadata": {},
   "outputs": [
    {
     "output_type": "stream",
     "name": "stdout",
     "text": [
      "100*rice + 140*tofu + 90*banana + 150*lentils + 270*bread + 300*avocado <= 2000.0\n3*rice + 17*tofu + banana + 9*lentils + 9*bread + 4*avocado >= 50.0\n"
     ]
    }
   ],
   "source": [
    "print(cqm.constraints[\"Calories\"].to_polystring())\n",
    "print(cqm.constraints[\"Protein\"].to_polystring())"
   ]
  },
  {
   "source": [
    "## Solve the Problem by Sampling <br>\n",
    "LeapHybridCQMSampler class enables you to easily incorporate Leap’s hybrid CQM solvers into your application:"
   ],
   "cell_type": "markdown",
   "metadata": {}
  },
  {
   "cell_type": "code",
   "execution_count": 23,
   "metadata": {},
   "outputs": [],
   "source": [
    "from dwave.system import LeapHybridCQMSampler\n",
    "sampler = LeapHybridCQMSampler()                        "
   ]
  },
  {
   "source": [
    "Submit the CQM to the selected solver. For one particular execution, the CQM hybrid sampler returned 49 samples, out of which 25 were solutions that met all the constraints."
   ],
   "cell_type": "markdown",
   "metadata": {}
  },
  {
   "cell_type": "code",
   "execution_count": 24,
   "metadata": {},
   "outputs": [
    {
     "output_type": "stream",
     "name": "stdout",
     "text": [
      "82 feasible solutions of 113.\n"
     ]
    }
   ],
   "source": [
    "sampleset = sampler.sample_cqm(cqm)                    \n",
    "feasible_sampleset = sampleset.filter(lambda row: row.is_feasible)   \n",
    "print(\"{} feasible solutions of {}.\".format(len(feasible_sampleset), len(sampleset)))"
   ]
  },
  {
   "source": [
    "The best solution found in this current execution was a diet of bread and bananas, with avocado completing the required fiber and fat portions:"
   ],
   "cell_type": "markdown",
   "metadata": {}
  },
  {
   "cell_type": "code",
   "execution_count": 26,
   "metadata": {},
   "outputs": [
    {
     "output_type": "stream",
     "name": "stdout",
     "text": [
      "{'avocado': 1.0, 'banana': 6.0, 'bread': 4.111111111111114, 'lentils': 0.33333333333332893, 'rice': 0.0, 'tofu': 0.0}\n"
     ]
    }
   ],
   "source": [
    "best = feasible_sampleset.first.sample\n",
    "print(best)"
   ]
  },
  {
   "source": [
    "You can define a utility function, $print\\_diet$, to display returned solutions in an intuitive format."
   ],
   "cell_type": "markdown",
   "metadata": {}
  },
  {
   "cell_type": "code",
   "execution_count": 27,
   "metadata": {},
   "outputs": [],
   "source": [
    "def print_diet(sample):\n",
    "   diet = {food: round(quantity, 1) for food, quantity in sample.items()}\n",
    "   print(f\"Diet: {diet}\")\n",
    "   taste_total = sum(foods[food][\"Taste\"] * amount for food, amount in sample.items())\n",
    "   cost_total = sum(foods[food][\"Cost\"] * amount for food, amount in sample.items())\n",
    "   print(f\"Total taste of {round(taste_total, 2)} at cost {round(cost_total, 2)}\")\n",
    "   for constraint in cqm.iter_constraint_data(sample):\n",
    "      print(f\"{constraint.label} (nominal: {constraint.rhs_energy}): {round(constraint.lhs_energy)}\")"
   ]
  },
  {
   "cell_type": "code",
   "execution_count": 28,
   "metadata": {},
   "outputs": [
    {
     "output_type": "stream",
     "name": "stdout",
     "text": [
      "Diet: {'avocado': 1.0, 'banana': 6.0, 'bread': 4.1, 'lentils': 0.3, 'rice': 0.0, 'tofu': 0.0}\nTotal taste of 86.56 at cost 9.46\nCalories (nominal: 2000.0): 2000\nProtein (nominal: 50.0): 50\nFat (nominal: 30.0): 42\nCarbs (nominal: 130.0): 372\nFiber (nominal: 30.0): 46\n"
     ]
    }
   ],
   "source": [
    "print_diet(best)"
   ]
  },
  {
   "cell_type": "code",
   "execution_count": null,
   "metadata": {},
   "outputs": [],
   "source": []
  }
 ]
}