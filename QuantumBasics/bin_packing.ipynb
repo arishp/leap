{
 "metadata": {
  "language_info": {
   "codemirror_mode": {
    "name": "ipython",
    "version": 3
   },
   "file_extension": ".py",
   "mimetype": "text/x-python",
   "name": "python",
   "nbconvert_exporter": "python",
   "pygments_lexer": "ipython3",
   "version": "3.9.15"
  },
  "orig_nbformat": 4,
  "kernelspec": {
   "name": "python3",
   "display_name": "Python 3.9.15 64-bit"
  },
  "interpreter": {
   "hash": "4cd7ab41f5fca4b9b44701077e38c5ffd31fe66a6cab21e0214b68d958d0e462"
  }
 },
 "nbformat": 4,
 "nbformat_minor": 2,
 "cells": [
  {
   "source": [
    "## Bin Packing\n",
    "This example solves the known hard problem of bin packing to demonstrate using a Leap hybrid CQM solver on a constrained problem with binary variables.<br>\n",
    "The bin-packing problem is to pack into a number of bins of limited capacity, $c$, a collection of items. Each item, $i$, with weight, $w_i$, should be assigned to bin, $b_j$, in such a way as to minimize the number of bins used.\n",
    "\n"
   ],
   "cell_type": "markdown",
   "metadata": {}
  },
  {
   "source": [
    "## Formulate the Problem\n",
    "First, set up the problem parameters:\n",
    "<br>$num\\_items$ is the number of items. \n",
    "<br>$weights$ assigns weights, $w_i$, to each item, $i$, randomly within a configurable range, $item\\_weight\\_range$.\n",
    "<br>$bin\\_capacity$ is the bin capacity, $c$, set based on the average weight."
   ],
   "cell_type": "markdown",
   "metadata": {}
  },
  {
   "cell_type": "code",
   "execution_count": 1,
   "metadata": {},
   "outputs": [
    {
     "output_type": "stream",
     "name": "stdout",
     "text": [
      "Problem: pack a total weight of 64 into bins of capacity 42.\n"
     ]
    }
   ],
   "source": [
    "import numpy as np\n",
    "num_items = 15\n",
    "item_weight_range = [3, 7]\n",
    "weights = list(np.random.randint(*item_weight_range, num_items))\n",
    "bin_capacity = int(10 * np.mean(weights))\n",
    "print(\"Problem: pack a total weight of {} into bins of capacity {}.\".format(\n",
    "      sum(weights), bin_capacity))  "
   ]
  },
  {
   "source": [
    "Instantiate a CQM"
   ],
   "cell_type": "markdown",
   "metadata": {}
  },
  {
   "cell_type": "code",
   "execution_count": 5,
   "metadata": {},
   "outputs": [],
   "source": [
    "from dimod import ConstrainedQuadraticModel\n",
    "cqm = ConstrainedQuadraticModel()"
   ]
  },
  {
   "source": [
    "## Objective Function\n",
    "The objective function to minimize is the number of used bins. Because a bin is either used or not, you can indicate bin usage with binary variables.<br>\n",
    "\n",
    "Binary variable $\\text{bin_used_<j>}$ indicates that bin $b_j$ is in use. The worst possible case is that each item requires an entire bin to itself, so the maximum number of bins (and the number of binary variables $\\text{bin_used_<j>}$ to instantiate) is equal to the number of items, $\\text{num_items}$."
   ],
   "cell_type": "markdown",
   "metadata": {}
  },
  {
   "cell_type": "code",
   "execution_count": 6,
   "metadata": {},
   "outputs": [],
   "source": [
    "from dimod import Binary\n",
    "bin_used = [Binary(f'bin_used_{j}') for j in range(num_items)]"
   ]
  },
  {
   "source": [
    "To minimize the number of used bins is to minimize the sum of $\\text{bin_used_<j>}$ variables with value 1 (True, meaning the bin is being used):\n",
    "\\begin{align}\n",
    "\\min ( \\sum_j b_j ).\n",
    "\\end{align}"
   ],
   "cell_type": "markdown",
   "metadata": {}
  },
  {
   "cell_type": "code",
   "execution_count": 12,
   "metadata": {},
   "outputs": [],
   "source": [
    "cqm.set_objective(sum(bin_used))"
   ]
  },
  {
   "source": [
    "Always keep in mind that such “variables” are actually class BinaryQuadraticModel objects, with a single variable with the requested label, $\\text{bin_used_<j>}$. "
   ],
   "cell_type": "markdown",
   "metadata": {}
  },
  {
   "cell_type": "code",
   "execution_count": 13,
   "metadata": {},
   "outputs": [
    {
     "output_type": "execute_result",
     "data": {
      "text/plain": [
       "BinaryQuadraticModel({'bin_used_0': 1.0}, {}, 0.0, 'BINARY')"
      ]
     },
     "metadata": {},
     "execution_count": 13
    }
   ],
   "source": [
    "bin_used[0]"
   ]
  },
  {
   "source": [
    "This means, for example, that multiplying by two doubles the linear bias"
   ],
   "cell_type": "markdown",
   "metadata": {}
  },
  {
   "cell_type": "code",
   "execution_count": 14,
   "metadata": {},
   "outputs": [
    {
     "output_type": "execute_result",
     "data": {
      "text/plain": [
       "BinaryQuadraticModel({'bin_used_0': 2.0}, {}, 0.0, 'BINARY')"
      ]
     },
     "metadata": {},
     "execution_count": 14
    }
   ],
   "source": [
    "2*bin_used[0]"
   ]
  },
  {
   "source": [
    "multiplying two such “variables” creates a quadratic bias\n"
   ],
   "cell_type": "markdown",
   "metadata": {}
  },
  {
   "cell_type": "code",
   "execution_count": 15,
   "metadata": {},
   "outputs": [
    {
     "output_type": "execute_result",
     "data": {
      "text/plain": [
       "BinaryQuadraticModel({'bin_used_0': 0.0, 'bin_used_1': 0.0}, {('bin_used_1', 'bin_used_0'): 1.0}, 0.0, 'BINARY')"
      ]
     },
     "metadata": {},
     "execution_count": 15
    }
   ],
   "source": [
    "bin_used[0]*bin_used[1]"
   ]
  },
  {
   "source": [
    "## Constraints\n",
    "The bin-packing problem has two constraints: <br>\n",
    "1. Each item can go into only one bin. This again is a binary outcome: item $i$ is either in bin $b_j$ or not. You can express this constraint, using binary variables, $x_{i,j}$, as\n",
    "\n",
    "\\begin{align}\n",
    "\\sum_j x_{i,j} = = 1.\n",
    "\\end{align}\n",
    " \n",
    "That is, over all \n",
    " bins, there is just one \n",
    " with value True (or item_<i>_in_bin_<j> == 1 in the code below) for each \n",
    "."
   ],
   "cell_type": "markdown",
   "metadata": {}
  },
  {
   "cell_type": "code",
   "execution_count": 16,
   "metadata": {},
   "outputs": [],
   "source": [
    "item_in_bin = [[Binary(f'item_{i}_in_bin_{j}') for j in range(num_items)] for i in range(num_items)]"
   ]
  },
  {
   "cell_type": "code",
   "execution_count": 18,
   "metadata": {},
   "outputs": [],
   "source": [
    "for i in range(num_items):\n",
    "    one_bin_per_item = cqm.add_constraint(sum(item_in_bin[i]) == 1, label=f'item_placing_{i}')"
   ]
  },
  {
   "source": [
    "2. Each bin has limited capacity. You can express this constraint for each bin, $b_j$, by summing over $i$ per value of $j$:\n",
    "\n",
    "\\begin{align}\n",
    "\\sum_j x_{i,j} \\times w_j \\leq c.\n",
    "\\end{align}\n",
    "\n",
    "That is, for each bin $b_j$, the sum of weights for those items placed in the bin ($\\text{item_<i>_in_bin_<j> == 1}$) does not exceed capacity."
   ],
   "cell_type": "markdown",
   "metadata": {}
  },
  {
   "cell_type": "code",
   "execution_count": 19,
   "metadata": {},
   "outputs": [],
   "source": [
    "for j in range(num_items):\n",
    "    bin_up_to_capacity = cqm.add_constraint(\n",
    "        sum(weights[i] * item_in_bin[i][j] for i in range(num_items)) - bin_used[j] * bin_capacity <= 0,\n",
    "        label=f'capacity_bin_{j}')"
   ]
  },
  {
   "source": [
    "For 15 items and allowing for the worst case of 15 bins, this CQM requires over 200 binary variables:"
   ],
   "cell_type": "markdown",
   "metadata": {}
  },
  {
   "cell_type": "code",
   "execution_count": 20,
   "metadata": {},
   "outputs": [
    {
     "output_type": "execute_result",
     "data": {
      "text/plain": [
       "240"
      ]
     },
     "metadata": {},
     "execution_count": 20
    }
   ],
   "source": [
    "len(cqm.variables)"
   ]
  },
  {
   "source": [
    "## Solve the Problem by Sampling\n",
    "LeapHybridCQMSampler class enables you to easily incorporate Leap’s hybrid CQM solvers into your application:"
   ],
   "cell_type": "markdown",
   "metadata": {}
  },
  {
   "cell_type": "code",
   "execution_count": 21,
   "metadata": {},
   "outputs": [],
   "source": [
    "from dwave.system import LeapHybridCQMSampler\n",
    "sampler = LeapHybridCQMSampler()     "
   ]
  },
  {
   "source": [
    "Submit the CQM to the selected solver. For one particular execution, with a maximum allowed runtime of 3 minutes, the CQM hybrid sampler returned 135 samples, out of which 131 were solutions that met all the constraints:"
   ],
   "cell_type": "markdown",
   "metadata": {}
  },
  {
   "cell_type": "code",
   "execution_count": 22,
   "metadata": {},
   "outputs": [
    {
     "output_type": "stream",
     "name": "stdout",
     "text": [
      "131 feasible solutions of 135.\n"
     ]
    }
   ],
   "source": [
    "sampleset = sampler.sample_cqm(cqm,\n",
    "                               time_limit=180,\n",
    "                               label=\"SDK Examples - Bin Packing\")  \n",
    "feasible_sampleset = sampleset.filter(lambda row: row.is_feasible)  \n",
    "if len(feasible_sampleset):      \n",
    "   best = feasible_sampleset.first\n",
    "   print(\"{} feasible solutions of {}.\".format(\n",
    "      len(feasible_sampleset), len(sampleset)))"
   ]
  },
  {
   "source": [
    "The best solution found a packing that required 2 bins:"
   ],
   "cell_type": "markdown",
   "metadata": {}
  },
  {
   "cell_type": "code",
   "execution_count": 23,
   "metadata": {},
   "outputs": [
    {
     "output_type": "stream",
     "name": "stdout",
     "text": [
      "2 bins are used.\n"
     ]
    }
   ],
   "source": [
    "selected_bins = [key for key, val in best.sample.items() if 'bin_used' in key and val]   \n",
    "print(\"{} bins are used.\".format(len(selected_bins)))     "
   ]
  },
  {
   "source": [
    "The code below defines a simple function, $\\text{get_indices}$, that returns the indices signifying the bin and item from variable names. This is used below in parsing the solutions returned from the hybrid solver."
   ],
   "cell_type": "markdown",
   "metadata": {}
  },
  {
   "cell_type": "code",
   "execution_count": 24,
   "metadata": {},
   "outputs": [],
   "source": [
    "def get_indices(name):\n",
    "    return [int(digs) for digs in name.split('_') if digs.isdigit()]"
   ]
  },
  {
   "source": [
    "For the best feasible solution, print the packing."
   ],
   "cell_type": "markdown",
   "metadata": {}
  },
  {
   "cell_type": "code",
   "execution_count": 25,
   "metadata": {},
   "outputs": [
    {
     "output_type": "stream",
     "name": "stdout",
     "text": [
      "Bin 10 has weights [4, 4, 5, 6, 4, 3, 3, 4] for a total of 33.\nBin 8 has weights [4, 4, 4, 6, 4, 4, 5] for a total of 31.\n"
     ]
    }
   ],
   "source": [
    "for bin in selected_bins:                        \n",
    "    in_bin = [key for key, val in best.sample.items() if\n",
    "       \"_in_bin\" in key and\n",
    "       get_indices(key)[1] == get_indices(bin)[0]\n",
    "       and val]\n",
    "    b = get_indices(in_bin[0])[1]\n",
    "    w = [weights[get_indices(item)[0]] for item in in_bin]\n",
    "    print(\"Bin {} has weights {} for a total of {}.\".format(b, w, sum(w)))"
   ]
  },
  {
   "source": [
    "The items were distributed in a way that kept each bin below its capacity."
   ],
   "cell_type": "markdown",
   "metadata": {}
  },
  {
   "cell_type": "code",
   "execution_count": null,
   "metadata": {},
   "outputs": [],
   "source": []
  }
 ]
}