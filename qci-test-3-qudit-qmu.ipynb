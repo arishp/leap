{
 "metadata": {
  "language_info": {
   "codemirror_mode": {
    "name": "ipython",
    "version": 3
   },
   "file_extension": ".py",
   "mimetype": "text/x-python",
   "name": "python",
   "nbconvert_exporter": "python",
   "pygments_lexer": "ipython3",
   "version": "3.9.15"
  },
  "orig_nbformat": 4,
  "kernelspec": {
   "name": "python3",
   "display_name": "Python 3.9.15 64-bit"
  },
  "interpreter": {
   "hash": "4cd7ab41f5fca4b9b44701077e38c5ffd31fe66a6cab21e0214b68d958d0e462"
  }
 },
 "nbformat": 4,
 "nbformat_minor": 2,
 "cells": [
  {
   "cell_type": "code",
   "execution_count": 38,
   "metadata": {},
   "outputs": [],
   "source": [
    "import numpy as np\n",
    "import sympy as sp\n",
    "import copy\n",
    "from rdkit import Chem\n",
    "import py3Dmol"
   ]
  },
  {
   "cell_type": "code",
   "execution_count": 39,
   "metadata": {},
   "outputs": [
    {
     "output_type": "stream",
     "name": "stderr",
     "text": [
      "[10:54:25] SIMPLE: Warning - no explicit hydrogens in mol2 file but needed for formal charge estimation.\n"
     ]
    },
    {
     "output_type": "display_data",
     "data": {
      "application/3dmoljs_load.v0": "<div id=\"3dmolviewer_16927016652327762\"  style=\"position: relative; width: 500px; height: 250px;\">\n        <p id=\"3dmolwarning_16927016652327762\" style=\"background-color:#ffcccc;color:black\">You appear to be running in JupyterLab (or JavaScript failed to load for some other reason).  You need to install the 3dmol extension: <br>\n        <tt>jupyter labextension install jupyterlab_3dmol</tt></p>\n        </div>\n<script>\n\nvar loadScriptAsync = function(uri){\n  return new Promise((resolve, reject) => {\n    //this is to ignore the existence of requirejs amd\n    var savedexports, savedmodule;\n    if (typeof exports !== 'undefined') savedexports = exports;\n    else exports = {}\n    if (typeof module !== 'undefined') savedmodule = module;\n    else module = {}\n\n    var tag = document.createElement('script');\n    tag.src = uri;\n    tag.async = true;\n    tag.onload = () => {\n        exports = savedexports;\n        module = savedmodule;\n        resolve();\n    };\n  var firstScriptTag = document.getElementsByTagName('script')[0];\n  firstScriptTag.parentNode.insertBefore(tag, firstScriptTag);\n});\n};\n\nif(typeof $3Dmolpromise === 'undefined') {\n$3Dmolpromise = null;\n  $3Dmolpromise = loadScriptAsync('https://cdnjs.cloudflare.com/ajax/libs/3Dmol/2.0.3/3Dmol-min.js');\n}\n\nvar viewer_16927016652327762 = null;\nvar warn = document.getElementById(\"3dmolwarning_16927016652327762\");\nif(warn) {\n    warn.parentNode.removeChild(warn);\n}\n$3Dmolpromise.then(function() {\nviewer_16927016652327762 = $3Dmol.createViewer(document.getElementById(\"3dmolviewer_16927016652327762\"),{backgroundColor:\"white\"});\nviewer_16927016652327762.zoomTo();\n\tviewer_16927016652327762.addModel(\"SIMPLE\\n     RDKit          3D\\n\\n  4  3  0  0  0  0  0  0  0  0999 V2000\\n    1.0000   -0.5000    0.0000 C   0  0  0  0  0  1  0  0  0  0  0  0\\n    0.0000    0.0000    0.0000 C   0  0  0  0  0  2  0  0  0  0  0  0\\n    0.0000    1.0000    0.0000 C   0  0  0  0  0  2  0  0  0  0  0  0\\n    1.0000    1.5000    0.0000 C   0  0  0  0  0  1  0  0  0  0  0  0\\n  1  2  1  0\\n  2  3  1  0\\n  3  4  1  0\\nM  RAD  4   1   2   2   3   3   3   4   2\\nM  END\\n\",\"mol\");\n\tviewer_16927016652327762.setStyle({\"stick\": {}});\n\tviewer_16927016652327762.zoomTo();\nviewer_16927016652327762.render();\n});\n</script>",
      "text/html": "<div id=\"3dmolviewer_16927016652327762\"  style=\"position: relative; width: 500px; height: 250px;\">\n        <p id=\"3dmolwarning_16927016652327762\" style=\"background-color:#ffcccc;color:black\">You appear to be running in JupyterLab (or JavaScript failed to load for some other reason).  You need to install the 3dmol extension: <br>\n        <tt>jupyter labextension install jupyterlab_3dmol</tt></p>\n        </div>\n<script>\n\nvar loadScriptAsync = function(uri){\n  return new Promise((resolve, reject) => {\n    //this is to ignore the existence of requirejs amd\n    var savedexports, savedmodule;\n    if (typeof exports !== 'undefined') savedexports = exports;\n    else exports = {}\n    if (typeof module !== 'undefined') savedmodule = module;\n    else module = {}\n\n    var tag = document.createElement('script');\n    tag.src = uri;\n    tag.async = true;\n    tag.onload = () => {\n        exports = savedexports;\n        module = savedmodule;\n        resolve();\n    };\n  var firstScriptTag = document.getElementsByTagName('script')[0];\n  firstScriptTag.parentNode.insertBefore(tag, firstScriptTag);\n});\n};\n\nif(typeof $3Dmolpromise === 'undefined') {\n$3Dmolpromise = null;\n  $3Dmolpromise = loadScriptAsync('https://cdnjs.cloudflare.com/ajax/libs/3Dmol/2.0.3/3Dmol-min.js');\n}\n\nvar viewer_16927016652327762 = null;\nvar warn = document.getElementById(\"3dmolwarning_16927016652327762\");\nif(warn) {\n    warn.parentNode.removeChild(warn);\n}\n$3Dmolpromise.then(function() {\nviewer_16927016652327762 = $3Dmol.createViewer(document.getElementById(\"3dmolviewer_16927016652327762\"),{backgroundColor:\"white\"});\nviewer_16927016652327762.zoomTo();\n\tviewer_16927016652327762.addModel(\"SIMPLE\\n     RDKit          3D\\n\\n  4  3  0  0  0  0  0  0  0  0999 V2000\\n    1.0000   -0.5000    0.0000 C   0  0  0  0  0  1  0  0  0  0  0  0\\n    0.0000    0.0000    0.0000 C   0  0  0  0  0  2  0  0  0  0  0  0\\n    0.0000    1.0000    0.0000 C   0  0  0  0  0  2  0  0  0  0  0  0\\n    1.0000    1.5000    0.0000 C   0  0  0  0  0  1  0  0  0  0  0  0\\n  1  2  1  0\\n  2  3  1  0\\n  3  4  1  0\\nM  RAD  4   1   2   2   3   3   3   4   2\\nM  END\\n\",\"mol\");\n\tviewer_16927016652327762.setStyle({\"stick\": {}});\n\tviewer_16927016652327762.zoomTo();\nviewer_16927016652327762.render();\n});\n</script>"
     },
     "metadata": {}
    }
   ],
   "source": [
    "mol_folder = './'\n",
    "mol_fname = 'simple.mol2'\n",
    "mol_filepath = mol_folder + mol_fname\n",
    "mol = Chem.MolFromMol2File(mol_filepath)\n",
    "mblock = Chem.MolToMolBlock(mol)\n",
    "view = py3Dmol.view(width=500, height=250)\n",
    "view.addModel(mblock, 'mol')\n",
    "view.setStyle({'stick':{}})\n",
    "view.zoomTo()\n",
    "view.show()"
   ]
  },
  {
   "cell_type": "code",
   "execution_count": 40,
   "metadata": {},
   "outputs": [],
   "source": [
    "coords_median = {}\n",
    "torsional_bonds = {}\n",
    "coords_rotation_dict = {}\n",
    "distance_pairs = []\n",
    "final_hubo = 0"
   ]
  },
  {
   "cell_type": "code",
   "execution_count": 41,
   "metadata": {},
   "outputs": [],
   "source": [
    "n_atoms_mol = mol.GetNumAtoms()\n",
    "conformers = mol.GetConformers()\n",
    "conf = conformers[0]\n",
    "coords_mol = {}\n",
    "for i in range(n_atoms_mol):\n",
    "    coords_mol[i] = [np.float16(0.0), np.float16(0.0), np.float16(0.0)]\n",
    "    coords_mol[i][0] = np.float16(list(conf.GetAtomPosition(i))[0])\n",
    "    coords_mol[i][1] = np.float16(list(conf.GetAtomPosition(i))[1])\n",
    "    coords_mol[i][2] = np.float16(list(conf.GetAtomPosition(i))[2])\n",
    "input_fname = mol_fname[:-5] + '_input.txt'\n",
    "input_folder = './'\n",
    "input_filepath = input_folder + input_fname\n",
    "input_lines = open(input_filepath, 'r').readlines()\n",
    "torsional_bonds_mol = eval(input_lines[0])\n",
    "coords_rotation_mol = eval(input_lines[2])\n",
    "distance_pairs_mol = eval(input_lines[3])\n",
    "\n",
    "median_list_mol = []\n",
    "for atoms in input_lines[1].split(','):\n",
    "    median_list_mol.append(int(atoms))\n",
    "for i, index in enumerate(median_list_mol):\n",
    "    coords_median[i] = coords_mol[index]\n",
    "for i in torsional_bonds_mol:\n",
    "    torsional_bonds[i] = (median_list_mol.index(torsional_bonds_mol[i][0]), median_list_mol.index(torsional_bonds_mol[i][1]))\n",
    "for atom in median_list_mol:\n",
    "    if atom in coords_rotation_mol.keys():\n",
    "        coords_rotation_dict[median_list_mol.index(atom)] = coords_rotation_mol[atom]\n",
    "for x, y in distance_pairs_mol.items():\n",
    "    u = median_list_mol.index(x)\n",
    "    for i in y:\n",
    "        v = median_list_mol.index(i)\n",
    "        distance_pairs.append((u, v))\n",
    "n_bonds = len(torsional_bonds)\n",
    "x = sp.symbols(f'x(0:{2*n_bonds})', real=True)\n",
    "coords_median_symb = copy.deepcopy(coords_median)"
   ]
  },
  {
   "cell_type": "code",
   "execution_count": 42,
   "metadata": {},
   "outputs": [
    {
     "output_type": "stream",
     "name": "stdout",
     "text": [
      "torsional_bonds: {0: (1, 2)}\ncoords_median: {0: [1.0, -0.5, 0.0], 1: [0.0, 0.0, 0.0], 2: [0.0, 1.0, 0.0], 3: [1.0, 1.5, 0.0]}\ncoords_rotation_dict: {3: [0]}\ndistance_pairs: [(0, 3), (1, 3)]\n"
     ]
    }
   ],
   "source": [
    "print(f'torsional_bonds: {torsional_bonds}')\n",
    "print(f'coords_median: {coords_median}')\n",
    "print(f'coords_rotation_dict: {coords_rotation_dict}')\n",
    "print(f'distance_pairs: {distance_pairs}')"
   ]
  },
  {
   "cell_type": "code",
   "execution_count": 43,
   "metadata": {},
   "outputs": [
    {
     "output_type": "execute_result",
     "data": {
      "text/plain": [
       "{0: [1.0, -0.5, 0.0],\n",
       " 1: [0.0, 0.0, 0.0],\n",
       " 2: [0.0, 1.0, 0.0],\n",
       " 3: [1.0, 1.5, 0.0]}"
      ]
     },
     "metadata": {},
     "execution_count": 43
    }
   ],
   "source": [
    "coords_median_symb"
   ]
  },
  {
   "cell_type": "code",
   "execution_count": 73,
   "metadata": {},
   "outputs": [
    {
     "output_type": "execute_result",
     "data": {
      "text/plain": [
       "{0: [1.0, -0.5, 0.0],\n",
       " 1: [0.0, 0.0, 0.0],\n",
       " 2: [0.0, 1.0, 0.0],\n",
       " 3: [0.0313*x0 - 1.0, 1.50, -0.25*(-0.0156*x0**2 + x0)**0.5]}"
      ]
     },
     "metadata": {},
     "execution_count": 73
    }
   ],
   "source": [
    "for coords_median_key in coords_rotation_dict:\n",
    "    final_rot_mat = sp.matrices.eye(4, 4)\n",
    "    for bond_no in coords_rotation_dict[coords_median_key]:\n",
    "        first_coords = coords_median[torsional_bonds[bond_no][0]]\n",
    "        second_coords = coords_median[torsional_bonds[bond_no][1]]\n",
    "        x_dash, y_dash, z_dash = first_coords[0], first_coords[1], first_coords[2]\n",
    "        x_ddash, y_ddash, z_ddash = second_coords[0], second_coords[1], second_coords[2]\n",
    "        dx = x_ddash - x_dash\n",
    "        dy = y_ddash - y_dash\n",
    "        dz = z_ddash - z_dash\n",
    "        l_sq = np.float16(dx ** 2.0 + dy ** 2.0 + dz ** 2.0)\n",
    "        l = np.sqrt(l_sq)\n",
    "        c_theta = -1.0 + 0.03125*x[bond_no]\n",
    "        s_theta = sp.expand_power_base(sp.sqrt(1 - c_theta*c_theta))\n",
    "        rotation_matrix = sp.matrices.eye(4)\n",
    "        rotation_matrix[0, 0] = (dx ** 2 + (dy ** 2 + dz ** 2) * c_theta) / l_sq\n",
    "        rotation_matrix[0, 1] = (dx * dy * (1 - c_theta) - dz * l * s_theta) / l_sq\n",
    "        rotation_matrix[0, 2] = (dx * dz * (1 - c_theta) + dy * l * s_theta) / l_sq\n",
    "        rotation_matrix[0, 3] = ((x_dash * (dy ** 2 + dz ** 2) - dx * (y_dash * dy + z_dash * dz)) * (1 - c_theta) + (y_dash * dz - z_dash * dy) * l * s_theta) / l_sq\n",
    "        rotation_matrix[1, 0] = (dx * dy * (1 - c_theta) + dz * l * s_theta) / l_sq\n",
    "        rotation_matrix[1, 1] = (dy ** 2 + (dx ** 2 + dz ** 2) * c_theta) / l_sq\n",
    "        rotation_matrix[1, 2] = (dy * dz * (1 - c_theta) - dx * l * s_theta) / l_sq\n",
    "        rotation_matrix[1, 3] = ((y_dash * (dx ** 2 + dz ** 2) - dy * (x_dash * dx + z_dash * dz)) * (1 - c_theta) + (z_dash * dx - x_dash * dz) * l * s_theta) / l_sq\n",
    "        rotation_matrix[2, 0] = (dx * dz * (1 - c_theta) - dy * l * s_theta) / l_sq\n",
    "        rotation_matrix[2, 1] = (dy * dz * (1 - c_theta) + dx * l * s_theta) / l_sq\n",
    "        rotation_matrix[2, 2] = (dz ** 2 + (dx ** 2 + dy ** 2) * c_theta) / l_sq\n",
    "        rotation_matrix[2, 3] = ((z_dash * (dx ** 2 + dy ** 2) - dz * (x_dash * dx + y_dash * dy)) * (1 - c_theta) + (x_dash * dy - y_dash * dx) * l * s_theta) / l_sq\n",
    "        final_rot_mat = final_rot_mat * rotation_matrix\n",
    "    coord_vector = sp.matrices.ones(4, 1)\n",
    "    coord_vector[0, 0] = copy.deepcopy(coords_median[coords_median_key][0])\n",
    "    coord_vector[1, 0] = copy.deepcopy(coords_median[coords_median_key][1])\n",
    "    coord_vector[2, 0] = copy.deepcopy(coords_median[coords_median_key][2])\n",
    "    coord_rot_vector = (final_rot_mat * coord_vector).evalf(3).expand()\n",
    "coords_median_symb[coords_median_key] = [(coord_rot_vector[0, 0]).expand(), (coord_rot_vector[1, 0]).expand(), (coord_rot_vector[2, 0]).expand()]\n",
    "coords_median_symb"
   ]
  },
  {
   "cell_type": "code",
   "execution_count": 45,
   "metadata": {},
   "outputs": [
    {
     "output_type": "execute_result",
     "data": {
      "text/plain": [
       "[(0, 3), (1, 3)]"
      ]
     },
     "metadata": {},
     "execution_count": 45
    }
   ],
   "source": [
    "distance_pairs"
   ]
  },
  {
   "cell_type": "code",
   "execution_count": 47,
   "metadata": {},
   "outputs": [
    {
     "output_type": "stream",
     "name": "stdout",
     "text": [
      "-0.001953125*x0**2 + 0.1875*x0 - 0.125*(-0.0156*x0**2 + x0)**1.0 - 11.25\n"
     ]
    }
   ],
   "source": [
    "distance_constraint = 0\n",
    "final_hubo = 0 \n",
    "for pair in distance_pairs:\n",
    "    x_coord, y_coord = coords_median_symb[pair[0]], coords_median_symb[pair[1]]\n",
    "    ds_sq = 0.0\n",
    "    for i in range(3):\n",
    "        ds_sq += sp.expand((y_coord[i] - x_coord[i]) ** 2)\n",
    "    distance_constraint += sp.expand(ds_sq)\n",
    "final_hubo += sp.expand(distance_constraint)\n",
    "final_hubo = -1.0*sp.expand_power_exp(final_hubo)\n",
    "print(final_hubo)"
   ]
  },
  {
   "cell_type": "code",
   "execution_count": 63,
   "metadata": {},
   "outputs": [
    {
     "output_type": "execute_result",
     "data": {
      "text/plain": [
       "array([[0.0625, 0.    ]])"
      ]
     },
     "metadata": {},
     "execution_count": 63
    }
   ],
   "source": [
    "h = np.array([[0.0625]])\n",
    "# [0.1875]\n",
    "# [0]\n",
    "J = np.array([[0.0]])\n",
    "# [-0.001953125,    0.0         ]\n",
    "# [0.0,             0.0    ]\n",
    "H = np.hstack([h, J])\n",
    "H\n",
    "# [0.1875    , -0.00195312,  0.        ]\n",
    "# [ 0.       ,  0.        ,  0.        ]"
   ]
  },
  {
   "cell_type": "code",
   "execution_count": 64,
   "metadata": {},
   "outputs": [
    {
     "output_type": "execute_result",
     "data": {
      "text/plain": [
       "{'data': [{'i': 0, 'j': 0, 'val': 0.0625}],\n",
       " 'file_name': 'simple_hamiltonian.json',\n",
       " 'num_variables': 1,\n",
       " 'file_type': 'hamiltonian'}"
      ]
     },
     "metadata": {},
     "execution_count": 64
    }
   ],
   "source": [
    "hamiltonian_data = {\n",
    "  \"data\": [{\"i\": 0,\"j\": 0,\"val\": 0.0625},],\n",
    "  \"file_name\": \"simple_hamiltonian.json\", # can be any short string\n",
    "  \"num_variables\": 1, # number of rows\n",
    "  \"file_type\": \"hamiltonian\" # defines the data type as hamiltonian\n",
    "}\n",
    "hamiltonian_data"
   ]
  },
  {
   "cell_type": "code",
   "execution_count": 65,
   "metadata": {},
   "outputs": [],
   "source": [
    "import qci_client as qc\n",
    "qci = qc.qci_client.QciClient(api_token=\"M3YYWg1ZaEuWkKI2eCIxFaFMoKeYem5m\", url=\"https://api.qci-next.com\")"
   ]
  },
  {
   "cell_type": "code",
   "execution_count": 66,
   "metadata": {},
   "outputs": [
    {
     "output_type": "stream",
     "name": "stdout",
     "text": [
      "Job submitted job_id='64e4962cf25d8eafde6e9e91'-: 2023/08/22 11:04:12\n",
      "RUNNING: 2023/08/22 11:04:14\n",
      "COMPLETED: 2023/08/22 11:04:32\n"
     ]
    }
   ],
   "source": [
    "response_json = qci.upload_file(hamiltonian_data)\n",
    "job_params_instance = {\"sampler_type\": \"eqc2\", \"n_samples\": 1, \"solution_type\": \"integer\", \"debug\": True}\n",
    "job_json = qci.build_job_body(\n",
    "    job_type=\"sample-hamiltonian\",\n",
    "    job_params=job_params_instance,\n",
    "    hamiltonian_file_id=response_json[\"file_id\"]) \n",
    "job_response = qci.process_job(job_body=job_json, job_type=\"sample-hamiltonian\")\n"
   ]
  },
  {
   "cell_type": "code",
   "execution_count": 68,
   "metadata": {},
   "outputs": [
    {
     "output_type": "stream",
     "name": "stdout",
     "text": [
      "6.25\n[63]\n"
     ]
    }
   ],
   "source": [
    "results = job_response['results']\n",
    "print(results['energies'][0])  # first entry, lowest energy\n",
    "print(results['samples'][0]) # prints first solution array\n",
    "sample = np.array(results[\"samples\"][0]) # populates lowest energy sample into   a numpy array ."
   ]
  },
  {
   "cell_type": "code",
   "execution_count": 69,
   "metadata": {},
   "outputs": [
    {
     "output_type": "execute_result",
     "data": {
      "text/plain": [
       "0.96875"
      ]
     },
     "metadata": {},
     "execution_count": 69
    }
   ],
   "source": [
    "cos_theta = -1.0 + 0.03125*results[\"samples\"][0][0]\n",
    "cos_theta"
   ]
  },
  {
   "cell_type": "code",
   "execution_count": 70,
   "metadata": {},
   "outputs": [
    {
     "output_type": "execute_result",
     "data": {
      "text/plain": [
       "0.2506556623361308"
      ]
     },
     "metadata": {},
     "execution_count": 70
    }
   ],
   "source": [
    "theta = np.arccos(cos_theta)\n",
    "theta"
   ]
  },
  {
   "cell_type": "code",
   "execution_count": 71,
   "metadata": {},
   "outputs": [
    {
     "output_type": "execute_result",
     "data": {
      "text/plain": [
       "14.361511562916563"
      ]
     },
     "metadata": {},
     "execution_count": 71
    }
   ],
   "source": [
    "180*theta/np.pi"
   ]
  },
  {
   "cell_type": "code",
   "execution_count": 72,
   "metadata": {},
   "outputs": [
    {
     "output_type": "execute_result",
     "data": {
      "text/plain": [
       "3.142857142857143"
      ]
     },
     "metadata": {},
     "execution_count": 72
    }
   ],
   "source": [
    "22/7"
   ]
  },
  {
   "cell_type": "code",
   "execution_count": null,
   "metadata": {},
   "outputs": [],
   "source": []
  }
 ]
}