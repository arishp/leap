{
 "metadata": {
  "language_info": {
   "codemirror_mode": {
    "name": "ipython",
    "version": 3
   },
   "file_extension": ".py",
   "mimetype": "text/x-python",
   "name": "python",
   "nbconvert_exporter": "python",
   "pygments_lexer": "ipython3",
   "version": "3.9.15"
  },
  "orig_nbformat": 4,
  "kernelspec": {
   "name": "python3",
   "display_name": "Python 3.9.15 64-bit"
  },
  "interpreter": {
   "hash": "4cd7ab41f5fca4b9b44701077e38c5ffd31fe66a6cab21e0214b68d958d0e462"
  }
 },
 "nbformat": 4,
 "nbformat_minor": 2,
 "cells": [
  {
   "cell_type": "code",
   "execution_count": 51,
   "metadata": {},
   "outputs": [
    {
     "output_type": "execute_result",
     "data": {
      "text/plain": [
       "array([[-1],\n",
       "       [-1],\n",
       "       [-1]])"
      ]
     },
     "metadata": {},
     "execution_count": 51
    }
   ],
   "source": [
    "import numpy as np\n",
    "h = np.array([[-1], [-1], [-1]])\n",
    "h"
   ]
  },
  {
   "cell_type": "code",
   "execution_count": 52,
   "metadata": {},
   "outputs": [
    {
     "output_type": "execute_result",
     "data": {
      "text/plain": [
       "array([[ 0. , -1.5,  0.5],\n",
       "       [-1.5,  0. ,  0. ],\n",
       "       [ 0.5,  0. ,  0. ]])"
      ]
     },
     "metadata": {},
     "execution_count": 52
    }
   ],
   "source": [
    "J = np.array([[0, -1.5, 0.5], [-1.5, 0, 0], [0.5, 0, 0]])\n",
    "J"
   ]
  },
  {
   "cell_type": "code",
   "execution_count": 53,
   "metadata": {},
   "outputs": [
    {
     "output_type": "execute_result",
     "data": {
      "text/plain": [
       "array([[-1. ,  0. , -1.5,  0.5],\n",
       "       [-1. , -1.5,  0. ,  0. ],\n",
       "       [-1. ,  0.5,  0. ,  0. ]])"
      ]
     },
     "metadata": {},
     "execution_count": 53
    }
   ],
   "source": [
    "H = np.hstack([h, J])\n",
    "H"
   ]
  },
  {
   "cell_type": "code",
   "execution_count": 54,
   "metadata": {},
   "outputs": [
    {
     "output_type": "execute_result",
     "data": {
      "text/plain": [
       "{'data': [{'i': 0, 'j': 0, 'val': -1},\n",
       "  {'i': 1, 'j': 0, 'val': -1},\n",
       "  {'i': 2, 'j': 0, 'val': -1},\n",
       "  {'i': 0, 'j': 2, 'val': -1.5},\n",
       "  {'i': 0, 'j': 3, 'val': 0.5},\n",
       "  {'i': 1, 'j': 1, 'val': -1.5},\n",
       "  {'i': 2, 'j': 1, 'val': 0.5}],\n",
       " 'file_name': 'simple_hamiltonian.json',\n",
       " 'num_variables': 3,\n",
       " 'file_type': 'hamiltonian'}"
      ]
     },
     "metadata": {},
     "execution_count": 54
    }
   ],
   "source": [
    "hamiltonian_data = {\n",
    "  \"data\": [{\"i\": 0,\"j\": 0,\"val\": -1},\n",
    "    {\"i\": 1,\"j\": 0,\"val\": -1},\n",
    "    {\"i\": 2,\"j\": 0,\"val\": -1,},\n",
    "    {\"i\": 0,\"j\": 2,\"val\": -1.5},\n",
    "    {\"i\": 0, \"j\": 3,\"val\": 0.5},\n",
    "    {\"i\": 1,\"j\": 1,\"val\": -1.5},\n",
    "    {\"i\": 2,\"j\": 1,\"val\": 0.5}],\n",
    "  \"file_name\": \"simple_hamiltonian.json\", # can be any short string\n",
    "  \"num_variables\": 3, # number of rows\n",
    "  \"file_type\": \"hamiltonian\" # defines the data type as hamiltonian\n",
    "}\n",
    "hamiltonian_data"
   ]
  },
  {
   "cell_type": "code",
   "execution_count": 55,
   "metadata": {},
   "outputs": [],
   "source": [
    "import qci_client as qc\n",
    "qci = qc.qci_client.QciClient(api_token=\"M3YYWg1ZaEuWkKI2eCIxFaFMoKeYem5m\", url=\"https://api.qci-next.com\")"
   ]
  },
  {
   "cell_type": "code",
   "execution_count": 56,
   "metadata": {},
   "outputs": [],
   "source": [
    "response_json = qci.upload_file(hamiltonian_data)"
   ]
  },
  {
   "cell_type": "code",
   "execution_count": 60,
   "metadata": {},
   "outputs": [],
   "source": [
    "job_params_instance = {\"sampler_type\": \"eqc2\", \"n_samples\": 2, \"solution_type\": \"integer\", \"debug\": True}"
   ]
  },
  {
   "cell_type": "code",
   "execution_count": 61,
   "metadata": {},
   "outputs": [],
   "source": [
    "job_json = qci.build_job_body(\n",
    "    job_type=\"sample-hamiltonian\",\n",
    "    job_params=job_params_instance,\n",
    "    hamiltonian_file_id=response_json[\"file_id\"]) "
   ]
  },
  {
   "cell_type": "code",
   "execution_count": 62,
   "metadata": {},
   "outputs": [
    {
     "output_type": "stream",
     "name": "stdout",
     "text": [
      "Job submitted job_id='64dd4343f25d8eafde6e4f61'-: 2023/08/16 21:44:35\n",
      "RUNNING: 2023/08/16 21:44:36\n",
      "COMPLETED: 2023/08/16 21:45:18\n"
     ]
    }
   ],
   "source": [
    "job_response = qci.process_job(job_body=job_json, job_type=\"sample-hamiltonian\")"
   ]
  },
  {
   "cell_type": "code",
   "execution_count": 63,
   "metadata": {},
   "outputs": [
    {
     "output_type": "stream",
     "name": "stdout",
     "text": [
      "-7600\n[63, 63, 0]\n"
     ]
    }
   ],
   "source": [
    "results = job_response['results']\n",
    "print(results['energies'][0])  # first entry, lowest energy\n",
    "print(results['samples'][0]) # prints first solution array\n",
    "sample = np.array(results[\"samples\"][0]) # populates lowest energy sample into   a numpy array ."
   ]
  },
  {
   "cell_type": "code",
   "execution_count": null,
   "metadata": {},
   "outputs": [],
   "source": []
  }
 ]
}