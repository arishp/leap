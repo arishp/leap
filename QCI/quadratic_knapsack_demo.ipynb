{
 "cells": [
  {
   "cell_type": "code",
   "execution_count": 22,
   "metadata": {},
   "outputs": [],
   "source": [
    "# !pip install qci-client\n",
    "# !pip install sympy"
   ]
  },
  {
   "cell_type": "code",
   "execution_count": 1,
   "id": "8ad22961",
   "metadata": {},
   "outputs": [],
   "source": [
    "import numpy as np\n",
    "from scipy.sparse import dok_matrix\n",
    "import os\n",
    "from qci_client import QciClient\n",
    "from sympy import IndexedBase, Matrix\n",
    "from time import time\n",
    "from helpers import extract_solution"
   ]
  },
  {
   "cell_type": "code",
   "execution_count": 3,
   "id": "bcc9dc20",
   "metadata": {},
   "outputs": [],
   "source": [
    "qc = QciClient(api_token=\"M3YYWg1ZaEuWkKI2eCIxFaFMoKeYem5m\", url=\"https://api.qci-next.com\")"
   ]
  },
  {
   "attachments": {},
   "cell_type": "markdown",
   "id": "31cc9865",
   "metadata": {},
   "source": [
    "# Quadratic Knapsack\n",
    "\n",
    "## Description\n",
    "\n",
    "The general Knapsack problem is: given a capacity of items (the knapsack), select items to maximize the value of the knapsack. Quadratic Knapsack has the ability to represent when items selected together contribute additional value or detract from the overall value.\n",
    "\n",
    "## Relevance\n",
    "\n",
    "This arises with capital projects. For example:\n",
    "\n",
    "1. Power grids and power generation are dependent upon each other for producing returns.\n",
    "2. Retail market saturation detracts from total returns, considering capacity of each location to service customers.\n",
    "\n",
    "## Example\n",
    "\n",
    "Consider a market for power demand. Five different power grid projects and seven different power generation projects are available to choose from. \n",
    "\n",
    "Long term demand increase of 95GWd needs to be planned.\n",
    "\n",
    "Five grid projects are up for review. Five power generation projects are up for review.\n",
    "\n",
    "This problem is designed to select the right grid projects and the amount of power generation to plan from each plant."
   ]
  },
  {
   "cell_type": "code",
   "execution_count": 4,
   "id": "0d143461",
   "metadata": {},
   "outputs": [],
   "source": [
    "grids = list(range(5))\n",
    "plants = list(range(5))\n",
    "association = [(0, 1), (0, 1, 2), (1, 2, 3), (2, 3, 4), (3, 4)]\n",
    "return_pgw = [(4.405, 3.946), (3.896, 4.084, 4.227), (3.559, 3.700, 3.636), (4.208, 3.558, 4.168), (3.854, 3.513)]\n",
    "# return_pgw = [(4.405, 3.946), (4.558, 0, 1.392), (3.259, 4.408, 1.636), (4.203, 3.984, 4.227), (0, 4.313)]\n",
    "grid_detractors = [(0, 1), (1, 2), (2, 3), (3, 4)]\n",
    "overlap_factor = [8.727, 9.724, 7.221, 9.009]\n",
    "# overlap_factor = [0, 0, 0, 0]"
   ]
  },
  {
   "cell_type": "code",
   "execution_count": 9,
   "id": "ae307b59",
   "metadata": {},
   "outputs": [],
   "source": [
    "n_qudits = 15\n",
    "# set the returns (per day)\n",
    "J = np.zeros((n_qudits, n_qudits))\n",
    "for i, local_grids in enumerate(association):\n",
    "    plant_idx = 10+i\n",
    "    for j, grid_idx in enumerate(local_grids):\n",
    "        # maximize\n",
    "        J[grid_idx, plant_idx] = -return_pgw[i][j]\n",
    "# set the grid overlap penalties\n",
    "for i, (grid1, grid2) in enumerate(grid_detractors):\n",
    "    J[grid1,grid2] = overlap_factor[i]"
   ]
  },
  {
   "cell_type": "code",
   "execution_count": 10,
   "id": "8a739201",
   "metadata": {},
   "outputs": [],
   "source": [
    "\n",
    "penalties_quad = np.zeros((n_qudits, n_qudits))\n",
    "penalties_lin = np.zeros((n_qudits,1))\n",
    "# a + b = 1\n",
    "# (a + b - 1) ** 2\n",
    "# a**2 + b**2 + 2*a*b - a - b + 1\n",
    "# put the grid and auxiliary variables in :10\n",
    "alpha = 12\n",
    "grid_selector = np.arange(5)\n",
    "aux_selector = np.arange(5, 10)\n",
    "plant_selector = np.arange(10, 15)\n",
    "penalties_quad[grid_selector, grid_selector] += alpha\n",
    "penalties_quad[aux_selector, aux_selector] += alpha\n",
    "penalties_quad[grid_selector, aux_selector] += 2*alpha\n",
    "penalties_lin[grid_selector] -= alpha\n",
    "penalties_lin[aux_selector] -= alpha"
   ]
  },
  {
   "cell_type": "code",
   "execution_count": 12,
   "id": "a66d7332",
   "metadata": {},
   "outputs": [],
   "source": [
    "\n",
    "h = np.zeros((n_qudits,1))\n",
    "# each grid costs 2k\n",
    "h[:5] = 2\n",
    "# each plant costs 2k/GW\n",
    "h[10:] = 2\n",
    "h += penalties_lin\n",
    "# add penalties to J\n",
    "J += penalties_quad\n",
    "# make J symmetric\n",
    "J += J.T\n",
    "J /= 2\n",
    "problem = np.hstack([h, J])\n",
    "np.save(\"/workspace/leap/quadknapsacktest.npy\", problem)\n"
   ]
  },
  {
   "cell_type": "code",
   "execution_count": 13,
   "id": "bce52af7",
   "metadata": {},
   "outputs": [
    {
     "output_type": "execute_result",
     "data": {
      "text/plain": [
       "(1.7565, 24.0)"
      ]
     },
     "metadata": {},
     "execution_count": 13
    }
   ],
   "source": [
    "prob_vals = np.abs(problem)\n",
    "prob_vals = prob_vals[prob_vals>0]\n",
    "np.min(prob_vals), np.max(prob_vals)"
   ]
  },
  {
   "cell_type": "code",
   "execution_count": 14,
   "id": "5950e36e",
   "metadata": {},
   "outputs": [
    {
     "output_type": "stream",
     "name": "stdout",
     "text": [
      "File ID: 64d2237ef25d8eafde6d948a\ntotal time 0.36049747467041016\n"
     ]
    }
   ],
   "source": [
    "t0 = time()\n",
    "ham_file = {\"file_type\": \"hamiltonian\", \"file_name\": \"quad_knapsack.json\"}\n",
    "data = []\n",
    "problem = dok_matrix(problem)\n",
    "for (i, j), value in problem.items():\n",
    "    data.append({\"i\": int(i), \"j\": int(j), \"val\": float(value)})\n",
    "ham_file[\"data\"] = data\n",
    "ham_file[\"num_variables\"] = n_qudits\n",
    "ham_file_id = qc.upload_file(ham_file)[\"file_id\"]\n",
    "print(f\"File ID: {ham_file_id}\")\n",
    "print(f'total time {time()-t0}')"
   ]
  },
  {
   "cell_type": "code",
   "execution_count": 15,
   "id": "119a8dbe",
   "metadata": {},
   "outputs": [],
   "source": [
    "body = qc.build_job_body(job_type=\"sample-hamiltonian\", hamiltonian_file_id=ham_file_id, \n",
    "                         job_params={\"sampler_type\": \"eqc2\", \"n_samples\": 2, \"solution_type\": \"integer\"},\n",
    "                         job_name=\"quad_knapsack\")"
   ]
  },
  {
   "cell_type": "code",
   "execution_count": 16,
   "id": "675c78e8",
   "metadata": {},
   "outputs": [
    {
     "output_type": "stream",
     "name": "stdout",
     "text": [
      "Job submitted job_id='64d2238af25d8eafde6d948d'-: 2023/08/08 11:14:19\n",
      "RUNNING: 2023/08/08 11:14:20\n",
      "COMPLETED: 2023/08/08 11:16:31\n"
     ]
    }
   ],
   "source": [
    "response = qc.process_job(\"sample-hamiltonian\", body)"
   ]
  },
  {
   "cell_type": "code",
   "execution_count": 17,
   "id": "0dda961c",
   "metadata": {
    "collapsed": true
   },
   "outputs": [],
   "source": [
    "grid_selection, power_values = extract_solution(response[\"results\"][\"samples\"][0], 5)"
   ]
  },
  {
   "cell_type": "code",
   "execution_count": 18,
   "id": "037f3900",
   "metadata": {},
   "outputs": [
    {
     "output_type": "stream",
     "name": "stdout",
     "text": [
      "Power grid project [1 2 3] selected for execution.\nPlant project 2 with 95.0 GWd planned\n"
     ]
    }
   ],
   "source": [
    "for grid in grid_selection:\n",
    "    print(f\"Power grid project {grid+1} selected for execution.\")\n",
    "for i, gw in enumerate(power_values):\n",
    "    if gw > 0:\n",
    "        print(f\"Plant project {i+1} with {gw} GWd planned\")"
   ]
  },
  {
   "cell_type": "code",
   "execution_count": 19,
   "id": "15f28875",
   "metadata": {},
   "outputs": [
    {
     "output_type": "execute_result",
     "data": {
      "text/plain": [
       "array([ 5,  4,  6,  0,  0,  0,  0,  0,  0,  0,  0, 85,  0,  0,  0])"
      ]
     },
     "metadata": {},
     "execution_count": 19
    }
   ],
   "source": [
    "x = np.array(response[\"results\"][\"samples\"][0])\n",
    "x"
   ]
  },
  {
   "cell_type": "code",
   "execution_count": 20,
   "id": "b77c02d0",
   "metadata": {},
   "outputs": [
    {
     "output_type": "execute_result",
     "data": {
      "text/plain": [
       "array([-2924.214])"
      ]
     },
     "metadata": {},
     "execution_count": 20
    }
   ],
   "source": [
    "h.T@x+x.T@J@x"
   ]
  },
  {
   "cell_type": "code",
   "execution_count": 21,
   "id": "00fbc347",
   "metadata": {},
   "outputs": [
    {
     "output_type": "execute_result",
     "data": {
      "text/plain": [
       "[-2924.214]"
      ]
     },
     "metadata": {},
     "execution_count": 21
    }
   ],
   "source": [
    "response[\"results\"][\"energies\"]"
   ]
  },
  {
   "cell_type": "code",
   "execution_count": null,
   "id": "4b222541",
   "metadata": {},
   "outputs": [],
   "source": []
  }
 ],
 "metadata": {
  "kernelspec": {
   "name": "python3",
   "display_name": "Python 3.9.15 64-bit"
  },
  "language_info": {
   "codemirror_mode": {
    "name": "ipython",
    "version": 3
   },
   "file_extension": ".py",
   "mimetype": "text/x-python",
   "name": "python",
   "nbconvert_exporter": "python",
   "pygments_lexer": "ipython3",
   "version": "3.9.15"
  },
  "interpreter": {
   "hash": "4cd7ab41f5fca4b9b44701077e38c5ffd31fe66a6cab21e0214b68d958d0e462"
  }
 },
 "nbformat": 4,
 "nbformat_minor": 5
}