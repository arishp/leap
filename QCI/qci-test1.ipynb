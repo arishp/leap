{
 "metadata": {
  "language_info": {
   "codemirror_mode": {
    "name": "ipython",
    "version": 3
   },
   "file_extension": ".py",
   "mimetype": "text/x-python",
   "name": "python",
   "nbconvert_exporter": "python",
   "pygments_lexer": "ipython3",
   "version": "3.9.15"
  },
  "orig_nbformat": 4,
  "kernelspec": {
   "name": "python3",
   "display_name": "Python 3.9.15 64-bit"
  },
  "interpreter": {
   "hash": "4cd7ab41f5fca4b9b44701077e38c5ffd31fe66a6cab21e0214b68d958d0e462"
  }
 },
 "nbformat": 4,
 "nbformat_minor": 2,
 "cells": [
  {
   "cell_type": "code",
   "execution_count": 1,
   "metadata": {},
   "outputs": [],
   "source": [
    "import qci_client as qc"
   ]
  },
  {
   "cell_type": "code",
   "execution_count": 2,
   "metadata": {},
   "outputs": [],
   "source": [
    "client = qc.qci_client.QciClient(api_token=\"M3YYWg1ZaEuWkKI2eCIxFaFMoKeYem5m\", url=\"https://api.qci-next.com\")"
   ]
  },
  {
   "cell_type": "code",
   "execution_count": 3,
   "metadata": {},
   "outputs": [],
   "source": [
    "import numpy as np"
   ]
  },
  {
   "cell_type": "code",
   "execution_count": 5,
   "metadata": {},
   "outputs": [
    {
     "output_type": "execute_result",
     "data": {
      "text/plain": [
       "array([[ 0. , -1.5,  0.5],\n",
       "       [-1.5,  0. ,  0. ],\n",
       "       [ 0.5,  0. ,  0. ]])"
      ]
     },
     "metadata": {},
     "execution_count": 5
    }
   ],
   "source": [
    "Q = np.array([[0, -1.5, 0.5], [-1.5, 0, 0], [0.5, 0, 0]]) \n",
    "Q"
   ]
  },
  {
   "cell_type": "code",
   "execution_count": 6,
   "metadata": {},
   "outputs": [
    {
     "output_type": "execute_result",
     "data": {
      "text/plain": [
       "{'data': [{'i': 0, 'j': 1, 'val': -1.5},\n",
       "  {'i': 0, 'j': 2, 'val': 0.5},\n",
       "  {'i': 1, 'j': 0, 'val': -1.5},\n",
       "  {'i': 2, 'j': 0, 'val': 0.5}],\n",
       " 'file_name': 'smallest_objective.json',\n",
       " 'num_variables': 3,\n",
       " 'file_type': 'qubo'}"
      ]
     },
     "metadata": {},
     "execution_count": 6
    }
   ],
   "source": [
    "qubo_data = {\n",
    "  \"data\": [\n",
    "    {\n",
    "      \"i\": 0,\n",
    "      \"j\": 1,\n",
    "      \"val\": -1.5\n",
    "    },\n",
    "    {\n",
    "      \"i\": 0,\n",
    "      \"j\": 2,\n",
    "      \"val\": 0.5\n",
    "    },\n",
    "    {\n",
    "      \"i\": 1,\n",
    "      \"j\": 0,\n",
    "      \"val\": -1.5\n",
    "    },\n",
    "    {\n",
    "      \"i\": 2,\n",
    "      \"j\": 0,\n",
    "      \"val\": 0.5\n",
    "    }\n",
    "  ],\n",
    "  \"file_name\": \"smallest_objective.json\", # can be any short string\n",
    "  \"num_variables\": 3, # number of rows\n",
    "  \"file_type\": \"qubo\" # defines the data type, 'qubo' in this case\n",
    "}\n",
    "qubo_data"
   ]
  },
  {
   "cell_type": "code",
   "execution_count": 11,
   "metadata": {},
   "outputs": [],
   "source": [
    "response_json = client.upload_file(qubo_data)"
   ]
  },
  {
   "cell_type": "code",
   "execution_count": 14,
   "metadata": {},
   "outputs": [],
   "source": [
    "params = { \"sampler_type\": \"csample\", \"n_samples\": 100 }\n"
   ]
  },
  {
   "cell_type": "code",
   "execution_count": 18,
   "metadata": {},
   "outputs": [],
   "source": [
    "job_json = {\n",
    "\"job_name\": \"test-job\", # required, can be any string\n",
    "\"job_tags\": [\"foo\", \"bar\"], # optional, useful for tracking different jobs \n",
    "\"params\": params, # dictionary containing job parameters\n",
    "\"qubo_file_id\": response_json[\"file_id\"] # string id returned from file upload\n",
    "}"
   ]
  },
  {
   "cell_type": "code",
   "execution_count": 19,
   "metadata": {},
   "outputs": [
    {
     "output_type": "stream",
     "name": "stdout",
     "text": [
      "Job submitted job_id='64d4d6d2f25d8eafde6dff74'-: 2023/08/10 12:23:46\n",
      "RUNNING: 2023/08/10 12:23:48\n",
      "COMPLETED: 2023/08/10 12:23:54\n"
     ]
    }
   ],
   "source": [
    "result = client.process_job(job_body=job_json, job_type=\"sample-qubo\")"
   ]
  },
  {
   "cell_type": "code",
   "execution_count": 20,
   "metadata": {},
   "outputs": [
    {
     "output_type": "stream",
     "name": "stdout",
     "text": [
      "{'counts': [1, 1, 1, 1, 1, 1, 1, 1], 'energies': [-3, -2, 0, 0, 0, 0, 0, 1], 'file_name': 'arish.pitchai.pwc_64ca84e58998ea94c099ea11_sample_qubo', 'file_type': 'job_results_sample_qubo', 'samples': [[1, 1, 0], [1, 1, 1], [0, 0, 1], [1, 0, 0], [0, 0, 0], [0, 1, 1], [0, 1, 0], [1, 0, 1]]}\n"
     ]
    }
   ],
   "source": [
    "results = result[\"results\"]\n",
    "print(results)"
   ]
  },
  {
   "cell_type": "code",
   "execution_count": 21,
   "metadata": {},
   "outputs": [],
   "source": [
    "   if result['job_info']['details']['status'] == \"ERROR\":\n",
    "        print(result['job_info']['details']['status'])\n",
    "        print(result['job_info']['results']['error'])"
   ]
  },
  {
   "cell_type": "code",
   "execution_count": null,
   "metadata": {},
   "outputs": [],
   "source": []
  }
 ]
}